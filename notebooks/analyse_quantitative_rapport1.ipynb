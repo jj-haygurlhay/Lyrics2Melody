{
 "cells": [
  {
   "cell_type": "markdown",
   "metadata": {},
   "source": [
    "# Analyse quantitative"
   ]
  },
  {
   "cell_type": "code",
   "execution_count": 8,
   "metadata": {},
   "outputs": [
    {
     "name": "stderr",
     "output_type": "stream",
     "text": [
      "Special tokens have been added in the vocabulary, make sure the associated word embeddings are fine-tuned or trained.\n"
     ]
    },
    {
     "name": "stdout",
     "output_type": "stream",
     "text": [
      "Error count: 99\n",
      "Error count: 100\n",
      "Error count: 107\n",
      "Error count: 89\n",
      "Error count: 75\n",
      "Error count: 110\n",
      "Error count: 95\n",
      "Error count: 113\n",
      "Error count: 119\n",
      "Error count: 98\n",
      "Error count: 125\n",
      "Error count: 110\n",
      "Error count: 118\n",
      "Error count: 107\n",
      "Error count: 100\n",
      "Error count: 95\n"
     ]
    }
   ],
   "source": [
    "import sys, os\n",
    "sys.path.append(os.path.abspath(os.path.join('..')))\n",
    "\n",
    "from quantitative_analysis.quantitative__analysis import quantitative_analysis\n",
    "\n",
    "analyser = quantitative_analysis(\"../runs/1-Avril-Rapport\", \"seq2seq\", \"../data/new_dataset/test.csv\")\n",
    "analyser.generate_midi(4,4)"
   ]
  },
  {
   "cell_type": "code",
   "execution_count": 10,
   "metadata": {},
   "outputs": [
    {
     "name": "stdout",
     "output_type": "stream",
     "text": [
      "Span: 88.5\n",
      "2-repetitions: 64.0\n",
      "3-repetitions: 13.75\n",
      "Unique values: 17.5\n",
      "Restless values: 137.5\n",
      "Avg rest: 0.0\n",
      "Song lenght: 137.5\n",
      "BLEU-2: 0.0\n",
      "BLEU-3: 0.0\n",
      "BLEU-4: 0.0\n"
     ]
    }
   ],
   "source": [
    "import numpy as np\n",
    "analysed_data = analyser.analyse(4,4)\n",
    "print(f\"Span: {np.average(list(analysed_data.span.values()))}\")\n",
    "print(f\"2-repetitions: {np.average(list(analysed_data.rep2.values()))}\")\n",
    "print(f\"3-repetitions: {np.average(list(analysed_data.rep3.values()))}\")\n",
    "print(f\"4-repetitions: {np.average(list(analysed_data.rep4.values()))}\")\n",
    "print(f\"Unique values: {np.average(list(analysed_data.unique.values()))}\")\n",
    "print(f\"Restless values: {np.average(list(analysed_data.restless.values()))}\")\n",
    "print(f\"Avg rest: {np.average(list(analysed_data.avg_rest.values()))}\")\n",
    "print(f\"Song lenght: {np.average(list(analysed_data.song_len.values()))}\")\n",
    "print(f\"BLEU-2: {np.average(list(analysed_data.bleu2_notes.values()))}\")\n",
    "print(f\"BLEU-3: {np.average(list(analysed_data.bleu3_notes.values()))}\")\n",
    "print(f\"BLEU-4: {np.average(list(analysed_data.bleu4_notes.values()))}\")"
   ]
  }
 ],
 "metadata": {
  "kernelspec": {
   "display_name": "Python 3",
   "language": "python",
   "name": "python3"
  },
  "language_info": {
   "codemirror_mode": {
    "name": "ipython",
    "version": 3
   },
   "file_extension": ".py",
   "mimetype": "text/x-python",
   "name": "python",
   "nbconvert_exporter": "python",
   "pygments_lexer": "ipython3",
   "version": "3.11.6"
  }
 },
 "nbformat": 4,
 "nbformat_minor": 2
}
