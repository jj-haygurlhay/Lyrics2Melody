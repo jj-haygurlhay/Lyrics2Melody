{
 "cells": [
  {
   "cell_type": "code",
   "execution_count": 1,
   "metadata": {},
   "outputs": [
    {
     "name": "stderr",
     "output_type": "stream",
     "text": [
      "/Users/JJKaufman/DESS/IFT6759/Lyrics2Melody/L2M_env/lib/python3.11/site-packages/tqdm/auto.py:21: TqdmWarning: IProgress not found. Please update jupyter and ipywidgets. See https://ipywidgets.readthedocs.io/en/stable/user_install.html\n",
      "  from .autonotebook import tqdm as notebook_tqdm\n"
     ]
    }
   ],
   "source": [
    "import sys, os\n",
    "import numpy as np\n",
    "from tqdm import tqdm\n",
    "import csv\n",
    "#sys.path[0] = '../'\n",
    "from models.random_baseline import RandomBaselineModel\n",
    "from project_utils.generate_distributions import create_distributions\n",
    "import pandas as pd\n",
    "import torch "
   ]
  },
  {
   "cell_type": "code",
   "execution_count": 2,
   "metadata": {},
   "outputs": [],
   "source": [
    "data_path = '../data/new_dataset/'\n",
    "train_dataset = data_path + 'train.csv'"
   ]
  },
  {
   "cell_type": "code",
   "execution_count": 3,
   "metadata": {},
   "outputs": [],
   "source": [
    "train_pd = pd.read_csv(train_dataset)"
   ]
  },
  {
   "cell_type": "code",
   "execution_count": 4,
   "metadata": {},
   "outputs": [
    {
     "data": {
      "text/plain": [
       "0       [[76.0, 0.25, 0.0], [76.0, 0.75, 0.5], [76.0, ...\n",
       "1       [[79.0, 1.0, 0.0], [77.0, 2.0, 0.0], [77.0, 1....\n",
       "2       [[67.0, 1.0, 0.0], [72.0, 1.0, 0.0], [74.0, 1....\n",
       "3       [[71.0, 0.5, 0.0], [71.0, 1.0, 0.5], [71.0, 0....\n",
       "4       [[63.0, 0.5, 0.0], [64.0, 1.0, 0.0], [63.0, 1....\n",
       "                              ...                        \n",
       "5718    [[77.0, 1.0, 0.0], [70.0, 1.0, 0.0], [73.0, 1....\n",
       "5719    [[79.0, 1.0, 0.0], [81.0, 1.0, 0.0], [88.0, 1....\n",
       "5720    [[72.0, 1.0, 0.0], [75.0, 2.0, 0.0], [75.0, 1....\n",
       "5721    [[57.0, 0.5, 0.0], [57.0, 1.0, 0.5], [57.0, 1....\n",
       "5722    [[67.0, 0.75, 0.5], [67.0, 0.5, 0.0], [66.0, 0...\n",
       "Name: midi_notes, Length: 5723, dtype: object"
      ]
     },
     "execution_count": 4,
     "metadata": {},
     "output_type": "execute_result"
    }
   ],
   "source": [
    "train_pd['midi_notes']"
   ]
  },
  {
   "cell_type": "code",
   "execution_count": 5,
   "metadata": {},
   "outputs": [],
   "source": [
    "from collections import Counter\n",
    "import ast\n"
   ]
  },
  {
   "cell_type": "code",
   "execution_count": 6,
   "metadata": {},
   "outputs": [],
   "source": [
    "# unique_durations = Counter()\n",
    "# unique_gaps = Counter()\n",
    "# for row in train_pd['midi_notes']:\n",
    "#     # Evaluate the string representation of the list\n",
    "#     list_of_notes = ast.literal_eval(row)\n",
    "\n",
    "#     for note_info in list_of_notes:\n",
    "#         # note_info format is assumed to be [midi_note, duration, gap]\n",
    "#         duration = note_info[1]  # Access the duration\n",
    "#         gap = note_info[2]\n",
    "#         unique_durations[duration] += 1\n",
    "#         unique_gaps[gap]+=1\n"
   ]
  },
  {
   "cell_type": "code",
   "execution_count": 7,
   "metadata": {},
   "outputs": [],
   "source": [
    "train_midi_dist, train_duration_dist, train_gap_dist = create_distributions(train_dataset)"
   ]
  },
  {
   "cell_type": "code",
   "execution_count": 8,
   "metadata": {},
   "outputs": [
    {
     "data": {
      "text/plain": [
       "19"
      ]
     },
     "execution_count": 8,
     "metadata": {},
     "output_type": "execute_result"
    }
   ],
   "source": [
    "len(train_duration_dist)"
   ]
  },
  {
   "cell_type": "code",
   "execution_count": 9,
   "metadata": {},
   "outputs": [
    {
     "data": {
      "text/plain": [
       "8"
      ]
     },
     "execution_count": 9,
     "metadata": {},
     "output_type": "execute_result"
    }
   ],
   "source": [
    "len(train_gap_dist)"
   ]
  },
  {
   "cell_type": "code",
   "execution_count": 10,
   "metadata": {},
   "outputs": [],
   "source": [
    "random_baseline_model = RandomBaselineModel(train_midi_dist, train_duration_dist, train_gap_dist)"
   ]
  },
  {
   "cell_type": "code",
   "execution_count": 11,
   "metadata": {},
   "outputs": [],
   "source": [
    "random_sequence = random_baseline_model.generate_melody(40)"
   ]
  },
  {
   "cell_type": "code",
   "execution_count": 12,
   "metadata": {},
   "outputs": [
    {
     "name": "stdout",
     "output_type": "stream",
     "text": [
      "[[69.    3.    0.  ]\n",
      " [68.    4.    0.  ]\n",
      " [64.    4.    0.  ]\n",
      " [62.    1.    0.  ]\n",
      " [68.    1.    0.  ]\n",
      " [64.    1.    0.  ]\n",
      " [67.    1.    0.  ]\n",
      " [74.    3.    0.  ]\n",
      " [81.    2.   32.  ]\n",
      " [76.    1.5   0.  ]\n",
      " [62.    1.    0.  ]\n",
      " [69.    3.    0.  ]\n",
      " [61.    1.    0.  ]\n",
      " [68.    0.5   0.  ]\n",
      " [68.    1.    4.  ]\n",
      " [69.    0.5   0.  ]\n",
      " [74.    2.    0.  ]\n",
      " [65.    2.    0.  ]\n",
      " [66.    1.    0.  ]\n",
      " [76.    1.    0.  ]\n",
      " [71.    1.    4.  ]\n",
      " [51.    2.    0.  ]\n",
      " [68.    0.75  0.  ]\n",
      " [71.    1.5   0.  ]\n",
      " [64.    0.5   0.  ]\n",
      " [76.    1.5   0.  ]\n",
      " [69.    3.    0.  ]\n",
      " [67.    1.    2.  ]\n",
      " [61.    1.    1.  ]\n",
      " [60.    1.    0.  ]\n",
      " [68.    0.5   0.  ]\n",
      " [76.    1.    0.  ]\n",
      " [72.    1.    0.  ]\n",
      " [45.    2.    0.  ]\n",
      " [60.    1.    0.  ]\n",
      " [82.    1.    0.  ]\n",
      " [69.    2.    0.  ]\n",
      " [65.    1.5   0.  ]\n",
      " [61.    1.    0.  ]\n",
      " [77.    6.5   0.  ]]\n"
     ]
    }
   ],
   "source": [
    "print(random_sequence)"
   ]
  }
 ],
 "metadata": {
  "kernelspec": {
   "display_name": "L2M_env",
   "language": "python",
   "name": "python3"
  },
  "language_info": {
   "codemirror_mode": {
    "name": "ipython",
    "version": 3
   },
   "file_extension": ".py",
   "mimetype": "text/x-python",
   "name": "python",
   "nbconvert_exporter": "python",
   "pygments_lexer": "ipython3",
   "version": "3.11.4"
  }
 },
 "nbformat": 4,
 "nbformat_minor": 2
}
