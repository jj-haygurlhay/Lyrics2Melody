{
 "cells": [
  {
   "cell_type": "code",
   "execution_count": 5,
   "metadata": {},
   "outputs": [],
   "source": [
    "import os\n",
    "import numpy as np\n",
    "from tqdm import tqdm\n",
    "import csv"
   ]
  },
  {
   "cell_type": "code",
   "execution_count": 6,
   "metadata": {},
   "outputs": [],
   "source": [
    "filenames_path = '../data/dataset_filenames/'\n",
    "new_dataset_path = '../data/new_dataset/'\n",
    "songs_path = '../data/songs_word_level/'\n",
    "\n",
    "if not os.path.exists(new_dataset_path):\n",
    "    os.makedirs(new_dataset_path)"
   ]
  },
  {
   "cell_type": "code",
   "execution_count": 7,
   "metadata": {},
   "outputs": [
    {
     "ename": "FileNotFoundError",
     "evalue": "[Errno 2] No such file or directory: './data/dataset_filenames/train_filename_list.pkl'",
     "output_type": "error",
     "traceback": [
      "\u001b[0;31m---------------------------------------------------------------------------\u001b[0m",
      "\u001b[0;31mFileNotFoundError\u001b[0m                         Traceback (most recent call last)",
      "Cell \u001b[0;32mIn[7], line 1\u001b[0m\n\u001b[0;32m----> 1\u001b[0m train_filenames \u001b[38;5;241m=\u001b[39m \u001b[43mnp\u001b[49m\u001b[38;5;241;43m.\u001b[39;49m\u001b[43mload\u001b[49m\u001b[43m(\u001b[49m\u001b[43mfilenames_path\u001b[49m\u001b[43m \u001b[49m\u001b[38;5;241;43m+\u001b[39;49m\u001b[43m \u001b[49m\u001b[38;5;124;43m'\u001b[39;49m\u001b[38;5;124;43mtrain_filename_list.pkl\u001b[39;49m\u001b[38;5;124;43m'\u001b[39;49m\u001b[43m,\u001b[49m\u001b[43m \u001b[49m\u001b[43mallow_pickle\u001b[49m\u001b[38;5;241;43m=\u001b[39;49m\u001b[38;5;28;43;01mTrue\u001b[39;49;00m\u001b[43m)\u001b[49m\n\u001b[1;32m      2\u001b[0m val_filenames   \u001b[38;5;241m=\u001b[39m np\u001b[38;5;241m.\u001b[39mload(filenames_path \u001b[38;5;241m+\u001b[39m \u001b[38;5;124m'\u001b[39m\u001b[38;5;124mvalid_filename_list.pkl\u001b[39m\u001b[38;5;124m'\u001b[39m, allow_pickle\u001b[38;5;241m=\u001b[39m\u001b[38;5;28;01mTrue\u001b[39;00m)\n\u001b[1;32m      3\u001b[0m test_filenames  \u001b[38;5;241m=\u001b[39m np\u001b[38;5;241m.\u001b[39mload(filenames_path \u001b[38;5;241m+\u001b[39m \u001b[38;5;124m'\u001b[39m\u001b[38;5;124mtest_filename_list.pkl\u001b[39m\u001b[38;5;124m'\u001b[39m,  allow_pickle\u001b[38;5;241m=\u001b[39m\u001b[38;5;28;01mTrue\u001b[39;00m)\n",
      "File \u001b[0;32m~/.local/lib/python3.11/site-packages/numpy/lib/npyio.py:427\u001b[0m, in \u001b[0;36mload\u001b[0;34m(file, mmap_mode, allow_pickle, fix_imports, encoding, max_header_size)\u001b[0m\n\u001b[1;32m    425\u001b[0m     own_fid \u001b[38;5;241m=\u001b[39m \u001b[38;5;28;01mFalse\u001b[39;00m\n\u001b[1;32m    426\u001b[0m \u001b[38;5;28;01melse\u001b[39;00m:\n\u001b[0;32m--> 427\u001b[0m     fid \u001b[38;5;241m=\u001b[39m stack\u001b[38;5;241m.\u001b[39menter_context(\u001b[38;5;28;43mopen\u001b[39;49m\u001b[43m(\u001b[49m\u001b[43mos_fspath\u001b[49m\u001b[43m(\u001b[49m\u001b[43mfile\u001b[49m\u001b[43m)\u001b[49m\u001b[43m,\u001b[49m\u001b[43m \u001b[49m\u001b[38;5;124;43m\"\u001b[39;49m\u001b[38;5;124;43mrb\u001b[39;49m\u001b[38;5;124;43m\"\u001b[39;49m\u001b[43m)\u001b[49m)\n\u001b[1;32m    428\u001b[0m     own_fid \u001b[38;5;241m=\u001b[39m \u001b[38;5;28;01mTrue\u001b[39;00m\n\u001b[1;32m    430\u001b[0m \u001b[38;5;66;03m# Code to distinguish from NumPy binary files and pickles.\u001b[39;00m\n",
      "\u001b[0;31mFileNotFoundError\u001b[0m: [Errno 2] No such file or directory: './data/dataset_filenames/train_filename_list.pkl'"
     ]
    }
   ],
   "source": [
    "train_filenames = np.load(filenames_path + 'train_filename_list.pkl', allow_pickle=True)\n",
    "val_filenames   = np.load(filenames_path + 'valid_filename_list.pkl', allow_pickle=True)\n",
    "test_filenames  = np.load(filenames_path + 'test_filename_list.pkl',  allow_pickle=True)"
   ]
  },
  {
   "cell_type": "code",
   "execution_count": null,
   "metadata": {},
   "outputs": [],
   "source": [
    "def generate_csv(file_names, out_file):\n",
    "    with open(out_file, 'w') as f:\n",
    "        csvwriter = csv.writer(f)\n",
    "        csvwriter.writerow(['filename', 'lyrics', 'syl_lyrics', 'midi_notes'])\n",
    "        rows = []\n",
    "        known_songs = []\n",
    "        for file_name in tqdm(file_names):\n",
    "            if file_name in known_songs:\n",
    "                continue\n",
    "            song_matrix = np.load(songs_path + file_name, allow_pickle=True)[0]\n",
    "            lyrics = ''\n",
    "            syl_lyrics = ''\n",
    "            midi_notes = []\n",
    "            for i, syllables in enumerate(song_matrix[3]):\n",
    "                for j, syl in enumerate(syllables):\n",
    "                    lyrics += syl\n",
    "                    syl_lyrics += syl + ' '\n",
    "                    midi_notes.append(song_matrix[1][i][j])\n",
    "                lyrics += ' '\n",
    "                \n",
    "            lyrics = lyrics[:-1]\n",
    "            syl_lyrics = syl_lyrics[:-1]\n",
    "            rows.append([file_name, lyrics, syl_lyrics, midi_notes])\n",
    "            known_songs.append(file_name)\n",
    "        \n",
    "        csvwriter.writerows(rows)"
   ]
  },
  {
   "cell_type": "code",
   "execution_count": null,
   "metadata": {},
   "outputs": [],
   "source": [
    "generate_csv(train_filenames, new_dataset_path + 'train.csv')\n",
    "generate_csv(val_filenames,   new_dataset_path + 'valid.csv')\n",
    "generate_csv(test_filenames,  new_dataset_path + 'test.csv')"
   ]
  }
 ],
 "metadata": {
  "kernelspec": {
   "display_name": "project-env",
   "language": "python",
   "name": "python3"
  },
  "language_info": {
   "codemirror_mode": {
    "name": "ipython",
    "version": 3
   },
   "file_extension": ".py",
   "mimetype": "text/x-python",
   "name": "python",
   "nbconvert_exporter": "python",
   "pygments_lexer": "ipython3",
   "version": "3.11.6"
  }
 },
 "nbformat": 4,
 "nbformat_minor": 2
}
