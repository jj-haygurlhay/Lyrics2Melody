{
 "cells": [
  {
   "cell_type": "code",
   "execution_count": 1,
   "metadata": {},
   "outputs": [],
   "source": [
    "import os\n",
    "import numpy as np\n",
    "from tqdm import tqdm\n",
    "import csv"
   ]
  },
  {
   "cell_type": "code",
   "execution_count": 13,
   "metadata": {},
   "outputs": [],
   "source": [
    "filenames_path = '../data/dataset_filenames/'\n",
    "new_dataset_path_length20 = '../data/new_dataset_length20/'\n",
    "new_dataset_path = '../data/new_dataset/'\n",
    "\n",
    "songs_path = '../data/songs_word_level/'\n",
    "\n",
    "if not os.path.exists(new_dataset_path):\n",
    "    os.makedirs(new_dataset_path)\n",
    "if not os.path.exists(new_dataset_path_length20):\n",
    "    os.makedirs(new_dataset_path_length20)"
   ]
  },
  {
   "cell_type": "code",
   "execution_count": 3,
   "metadata": {},
   "outputs": [],
   "source": [
    "train_filenames = np.load(filenames_path + 'train_filename_list.pkl', allow_pickle=True)\n",
    "val_filenames   = np.load(filenames_path + 'valid_filename_list.pkl', allow_pickle=True)\n",
    "test_filenames  = np.load(filenames_path + 'test_filename_list.pkl',  allow_pickle=True)"
   ]
  },
  {
   "cell_type": "code",
   "execution_count": 21,
   "metadata": {},
   "outputs": [],
   "source": [
    "def generate_csv(file_names, out_file):\n",
    "    with open(out_file, 'w') as f:\n",
    "        csvwriter = csv.writer(f)\n",
    "        csvwriter.writerow(['filename', 'lyrics', 'syl_lyrics', 'midi_notes'])\n",
    "        rows = []\n",
    "        known_songs = []\n",
    "        for file_name in tqdm(file_names):\n",
    "            if file_name in known_songs:\n",
    "                continue\n",
    "            song_matrix = np.load(songs_path + file_name, allow_pickle=True)[0]\n",
    "            lyrics = ''\n",
    "            syl_lyrics = ''\n",
    "            midi_notes = []\n",
    "            for i, syllables in enumerate(song_matrix[3]):\n",
    "                for j, syl in enumerate(syllables):\n",
    "                    lyrics += syl\n",
    "                    syl_lyrics += syl + ' '\n",
    "                    midi_notes.append(song_matrix[1][i][j])\n",
    "                lyrics += ' '\n",
    "                \n",
    "            lyrics = lyrics[:-1]\n",
    "            syl_lyrics = syl_lyrics[:-1]\n",
    "            rows.append([file_name, lyrics, syl_lyrics, midi_notes])\n",
    "            known_songs.append(file_name)\n",
    "        \n",
    "        csvwriter.writerows(rows)\n",
    "\n",
    "def generate_csv_length20(file_names, out_file):\n",
    "    with open(out_file, 'w') as f:\n",
    "        csvwriter = csv.writer(f)\n",
    "        csvwriter.writerow(['filename', 'lyrics', 'syl_lyrics', 'midi_notes'])\n",
    "        rows = []\n",
    "        known_songs = []\n",
    "        for file_name in tqdm(file_names):\n",
    "            start_idx = 0\n",
    "            end_idx = 20\n",
    "            if file_name in known_songs:\n",
    "                start_idx = 20\n",
    "                end_idx = 40\n",
    "\n",
    "            song_matrix = np.load(songs_path + file_name, allow_pickle=True)[0]\n",
    "            lyrics = ''\n",
    "            syl_lyrics = ''\n",
    "            midi_notes = []\n",
    "            i = start_idx\n",
    "            count = 0\n",
    "            for syllables in song_matrix[3][start_idx:end_idx]:\n",
    "                for j, syl in enumerate(syllables):\n",
    "                    lyrics += syl\n",
    "                    syl_lyrics += syl + ' '\n",
    "                    midi_notes.append(song_matrix[1][i][j])\n",
    "                    count += 1\n",
    "                lyrics += ' '\n",
    "                i += 1\n",
    "                if count == 20:\n",
    "                    break\n",
    "\n",
    "                \n",
    "            lyrics = lyrics[:-1]\n",
    "            syl_lyrics = syl_lyrics[:-1]\n",
    "            rows.append([file_name, lyrics, syl_lyrics, midi_notes])\n",
    "            known_songs.append(file_name)\n",
    "        \n",
    "        csvwriter.writerows(rows)"
   ]
  },
  {
   "cell_type": "code",
   "execution_count": 23,
   "metadata": {},
   "outputs": [
    {
     "name": "stderr",
     "output_type": "stream",
     "text": [
      "100%|██████████| 11149/11149 [00:39<00:00, 282.44it/s]\n",
      "100%|██████████| 1051/1051 [00:03<00:00, 271.00it/s]\n",
      "100%|██████████| 1051/1051 [00:00<00:00, 1472.77it/s]\n"
     ]
    }
   ],
   "source": [
    "generate_csv_length20(train_filenames, new_dataset_path_length20 + 'train_length20.csv')\n",
    "generate_csv_length20(val_filenames,   new_dataset_path_length20 + 'valid_length20.csv')\n",
    "generate_csv_length20(test_filenames,  new_dataset_path_length20 + 'test_length20.csv')"
   ]
  },
  {
   "cell_type": "code",
   "execution_count": 12,
   "metadata": {},
   "outputs": [
    {
     "name": "stderr",
     "output_type": "stream",
     "text": [
      "100%|██████████| 11149/11149 [00:04<00:00, 2472.76it/s]\n",
      "100%|██████████| 1051/1051 [00:00<00:00, 2689.00it/s]\n",
      "100%|██████████| 1051/1051 [00:00<00:00, 2700.64it/s]\n"
     ]
    }
   ],
   "source": [
    "generate_csv(train_filenames, new_dataset_path + 'train.csv')\n",
    "generate_csv(val_filenames,   new_dataset_path + 'valid.csv')\n",
    "generate_csv(test_filenames,  new_dataset_path + 'test.csv')"
   ]
  }
 ],
 "metadata": {
  "kernelspec": {
   "display_name": "project-env",
   "language": "python",
   "name": "python3"
  },
  "language_info": {
   "codemirror_mode": {
    "name": "ipython",
    "version": 3
   },
   "file_extension": ".py",
   "mimetype": "text/x-python",
   "name": "python",
   "nbconvert_exporter": "python",
   "pygments_lexer": "ipython3",
   "version": "3.8.10"
  }
 },
 "nbformat": 4,
 "nbformat_minor": 2
}
