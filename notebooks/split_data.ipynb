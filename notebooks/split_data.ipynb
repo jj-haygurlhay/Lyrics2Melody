{
 "cells": [
  {
   "cell_type": "code",
   "execution_count": 26,
   "metadata": {},
   "outputs": [],
   "source": [
    "import os\n",
    "import numpy as np\n",
    "from tqdm import tqdm\n",
    "import csv"
   ]
  },
  {
   "cell_type": "code",
   "execution_count": 10,
   "metadata": {},
   "outputs": [],
   "source": [
    "filenames_path = '../data/dataset_filenames/'\n",
    "new_dataset_path = '../data/new_dataset/'\n",
    "songs_path = '../data/songs_word_level/'\n",
    "\n",
    "if not os.path.exists(new_dataset_path):\n",
    "    os.makedirs(new_dataset_path)"
   ]
  },
  {
   "cell_type": "code",
   "execution_count": 7,
   "metadata": {},
   "outputs": [],
   "source": [
    "train_filenames = np.load(filenames_path + 'train_filename_list.pkl', allow_pickle=True)\n",
    "val_filenames   = np.load(filenames_path + 'valid_filename_list.pkl', allow_pickle=True)\n",
    "test_filenames  = np.load(filenames_path + 'test_filename_list.pkl',  allow_pickle=True)"
   ]
  },
  {
   "cell_type": "code",
   "execution_count": 36,
   "metadata": {},
   "outputs": [],
   "source": [
    "def generate_csv(file_names, out_file):\n",
    "    with open(out_file, 'w') as f:\n",
    "        csvwriter = csv.writer(f)\n",
    "        csvwriter.writerow(['filename', 'lyrics', 'syl_lyrics', 'midi_notes'])\n",
    "        rows = []\n",
    "        known_songs = []\n",
    "        for file_name in tqdm(file_names):\n",
    "            if file_name in known_songs:\n",
    "                continue\n",
    "            song_matrix = np.load(songs_path + file_name, allow_pickle=True)[0]\n",
    "            lyrics = ''\n",
    "            syl_lyrics = ''\n",
    "            midi_notes = []\n",
    "            for i, syllables in enumerate(song_matrix[3]):\n",
    "                for j, syl in enumerate(syllables):\n",
    "                    lyrics += syl\n",
    "                    syl_lyrics += syl + ' '\n",
    "                    midi_notes.append(song_matrix[1][i][j])\n",
    "                lyrics += ' '\n",
    "                \n",
    "            lyrics = lyrics[:-1]\n",
    "            syl_lyrics = syl_lyrics[:-1]\n",
    "            rows.append([file_name, lyrics, syl_lyrics, midi_notes])\n",
    "            known_songs.append(file_name)\n",
    "        \n",
    "        csvwriter.writerows(rows)"
   ]
  },
  {
   "cell_type": "code",
   "execution_count": 37,
   "metadata": {},
   "outputs": [
    {
     "name": "stderr",
     "output_type": "stream",
     "text": [
      "100%|██████████| 11149/11149 [00:05<00:00, 1869.10it/s]\n",
      "100%|██████████| 1051/1051 [00:04<00:00, 248.84it/s]\n",
      "100%|██████████| 1051/1051 [00:00<00:00, 2076.48it/s]\n"
     ]
    }
   ],
   "source": [
    "generate_csv(train_filenames, new_dataset_path + 'train.csv')\n",
    "generate_csv(val_filenames,   new_dataset_path + 'valid.csv')\n",
    "generate_csv(test_filenames,  new_dataset_path + 'test.csv')"
   ]
  }
 ],
 "metadata": {
  "kernelspec": {
   "display_name": "project-env",
   "language": "python",
   "name": "python3"
  },
  "language_info": {
   "codemirror_mode": {
    "name": "ipython",
    "version": 3
   },
   "file_extension": ".py",
   "mimetype": "text/x-python",
   "name": "python",
   "nbconvert_exporter": "python",
   "pygments_lexer": "ipython3",
   "version": "3.8.10"
  }
 },
 "nbformat": 4,
 "nbformat_minor": 2
}
