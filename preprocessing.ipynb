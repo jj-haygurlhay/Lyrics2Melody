{
 "cells": [
  {
   "cell_type": "code",
   "execution_count": 19,
   "id": "528cdd28-d5d8-4312-874c-254436a18321",
   "metadata": {},
   "outputs": [
    {
     "data": {
      "text/plain": [
       "'/Users/JJKaufman/DESS/IFT6759/Lyrics2Melody'"
      ]
     },
     "execution_count": 19,
     "metadata": {},
     "output_type": "execute_result"
    }
   ],
   "source": [
    "import os\n",
    "os.getcwd()"
   ]
  },
  {
   "cell_type": "code",
   "execution_count": 20,
   "id": "573157e0-2f2d-40d2-9e9d-7d74f22086d7",
   "metadata": {},
   "outputs": [],
   "source": [
    "file_path_SW = './data/lmd_full_MIDI_dataset/Sentence_and_Word_Parsing'\n",
    "file_path_S = './data/lmd_full_MIDI_dataset/Sentence_Parsing'\n",
    "file_path_Syll = './data/lmd_full_MIDI_dataset/Syllable_Parsing'\n",
    "file_path_W = './data/lmd_full_MIDI_dataset/Word_Parsing'\n",
    "file_path_songID = './data/lmd_full_MIDI_dataset/listSongID.txt'\n",
    "file_path_songID_JSON = './data/lmd_full_MIDI_dataset/listSongJSON.json'\n"
   ]
  },
  {
   "cell_type": "code",
   "execution_count": 21,
   "id": "2d2b2769-faea-4a80-9011-a30724e74d37",
   "metadata": {},
   "outputs": [],
   "source": [
    "import pandas as pd"
   ]
  },
  {
   "cell_type": "code",
   "execution_count": 22,
   "id": "30b21dc0-bd1e-4a2b-b6ec-974682697ce7",
   "metadata": {},
   "outputs": [],
   "source": [
    "import numpy as np\n",
    "import json"
   ]
  },
  {
   "cell_type": "code",
   "execution_count": 23,
   "id": "d971edc8-9322-413f-a395-974bc005f53e",
   "metadata": {},
   "outputs": [],
   "source": [
    "\n",
    "with open(file_path_songID_JSON, 'r') as f:\n",
    "    songID = json.load(f)\n",
    "\n"
   ]
  },
  {
   "cell_type": "code",
   "execution_count": 127,
   "id": "a40f3b40-1bc7-4c4d-8fa9-050eee0a9221",
   "metadata": {},
   "outputs": [],
   "source": [
    "Sentence_Word={'duration':[], 'midi_note': [], 'sentence_word':[], 'sentence_syllable':[]}\n",
    "for filename in os.listdir(file_path_SW):\n",
    "    if filename.endswith(\".npy\"):\n",
    "        # Load the .npy file using numpy.load()\n",
    "        filepath = os.path.join(file_path_SW, filename)\n",
    "        loaded = np.load(filepath, allow_pickle = True)\n",
    "        Sentence_Word['duration'] = loaded[0, 0]\n",
    "        Sentence_Word['midi_note'] = loaded[0,1]\n",
    "        Sentence_Word['sentence_word'] = loaded[0,2]\n",
    "        Sentence_Word['sentence_syllable'] = loaded[0,3]\n",
    "      \n",
    "        "
   ]
  },
  {
   "cell_type": "code",
   "execution_count": 102,
   "id": "97ae1a27-134d-402a-adf9-d6d248737be0",
   "metadata": {},
   "outputs": [],
   "source": [
    "Sentences = {'duration': [], 'midi_note': [], 'sentence': []}\n",
    "for filename in os.listdir(file_path_S):\n",
    "    if filename.endswith(\".npy\"):\n",
    "        # Load the .npy file using numpy.load()\n",
    "        filepath = os.path.join(file_path_S, filename)\n",
    "        loaded = np.load(filepath, allow_pickle = True)\n",
    "        \n",
    "        Sentences['duration'] = loaded[0, 0]\n",
    "        Sentences['midi_note']= loaded[0,1]\n",
    "        Sentences['sentence'] = loaded[0,2]\n",
    "  "
   ]
  },
  {
   "cell_type": "code",
   "execution_count": 113,
   "id": "95726abc-02d1-4ea4-9d7b-ef2232e9b8b0",
   "metadata": {},
   "outputs": [],
   "source": [
    "Words = {'duration': [], 'midi_note': [], 'word': [], 'syllable':[]}\n",
    "for filename in os.listdir(file_path_W):\n",
    "    if filename.endswith(\".npy\"):\n",
    "        # Load the .npy file using numpy.load()\n",
    "        filepath = os.path.join(file_path_W, filename)\n",
    "        loaded = np.load(filepath, allow_pickle = True)\n",
    "        Words['duration'] = loaded[0, 0]\n",
    "        Words['midi_note']= loaded[0,1]\n",
    "        Words['word'] = loaded[0,2]\n",
    "        Words['syllable'] = loaded[0,3]\n",
    "  "
   ]
  },
  {
   "cell_type": "code",
   "execution_count": 124,
   "id": "ab60a271-18a1-4152-85f2-79d1ce6b5d47",
   "metadata": {},
   "outputs": [],
   "source": [
    "Sylls = {'duration': [], 'midi_note':[], 'syllable': []}\n",
    "for filename in os.listdir(file_path_Syll):\n",
    "    if filename.endswith(\".npy\"):\n",
    "        # Load the .npy file using numpy.load()\n",
    "        filepath = os.path.join(file_path_Syll, filename)\n",
    "        loaded = np.load(filepath, allow_pickle = True)\n",
    "        Sylls['duration'] = loaded[0, 0]\n",
    "        Sylls['midi_note']= loaded[0,1]\n",
    "        Sylls['syllable'] = loaded[0,2]\n",
    "  \n"
   ]
  },
  {
   "cell_type": "code",
   "execution_count": 73,
   "id": "c0cedfa0-f19d-4a12-8562-5c7c059d7e52",
   "metadata": {},
   "outputs": [],
   "source": [
    "import re"
   ]
  },
  {
   "cell_type": "code",
   "execution_count": 74,
   "id": "ab0aaaf1-3d92-4df5-9d30-f9cfc138fd3b",
   "metadata": {},
   "outputs": [],
   "source": [
    "songs = {}\n",
    "#loading the song ids and midi files from the txt file\n",
    "with open(file_path_songID, \"r\") as file:\n",
    "    # Iterate over each line in the file\n",
    "    for line in file:\n",
    "        # Skip empty lines\n",
    "        if not line.strip():\n",
    "            continue\n",
    "        \n",
    "        # Use regular expression to split the line into 'ID' and 'song_name' components\n",
    "        match = re.match(r'(\\S+)\\s+(.*)', line.strip())\n",
    "        if match:\n",
    "            ID, midi = match.groups()\n",
    "            # Store the data in the dictionary\n",
    "            songs[ID] = midi\n",
    "        else:\n",
    "            print(f\"Issue with line: {line}\")\n",
    "    "
   ]
  },
  {
   "cell_type": "code",
   "execution_count": null,
   "id": "d78fab00-9025-42e2-a266-01e8b71dd771",
   "metadata": {},
   "outputs": [],
   "source": []
  }
 ],
 "metadata": {
  "kernelspec": {
   "display_name": "Python 3 (ipykernel)",
   "language": "python",
   "name": "python3"
  },
  "language_info": {
   "codemirror_mode": {
    "name": "ipython",
    "version": 3
   },
   "file_extension": ".py",
   "mimetype": "text/x-python",
   "name": "python",
   "nbconvert_exporter": "python",
   "pygments_lexer": "ipython3",
   "version": "3.11.4"
  }
 },
 "nbformat": 4,
 "nbformat_minor": 5
}
